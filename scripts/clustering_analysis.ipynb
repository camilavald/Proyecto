{
  "nbformat": 4,
  "nbformat_minor": 0,
  "metadata": {
    "colab": {
      "provenance": []
    },
    "kernelspec": {
      "name": "python3",
      "display_name": "Python 3"
    },
    "language_info": {
      "name": "python"
    }
  },
  "cells": [
    {
      "cell_type": "code",
      "source": [
        "# preprocessing.py\n",
        "\n",
        "import pandas as pd\n",
        "from sklearn.preprocessing import StandardScaler\n",
        "\n",
        "# Cargar datos desde el archivo Excel\n",
        "datos = pd.read_excel('data/PANEL_SALUD_Y_SERVICIOS.xlsx')\n",
        "\n",
        "# Renombrar las columnas del DataFrame para eliminar caracteres especiales\n",
        "datos.rename(columns={\n",
        "    'C�digo DANE del Municipio': 'Codigo_dane_del_municipio',\n",
        "    'A�o': 'Ano',\n",
        "    'N�mero de personas afiliadas al r�gimen subsidiado': 'Afiliados_Regimen_Subsidiado',\n",
        "    'Cobertura personas afiliadas al r�gimen subsidiado': 'Cobertura_Regimen_Subsidiado',\n",
        "    'N�mero de personas afiliadas al r�gimen contributivo': 'Afiliados_Regimen_Contributivo',\n",
        "    'N�mero de personas que pertenecen a r�gimen especial de salud': 'Afiliados_Regimen_Especial',\n",
        "    'N�mero de nacidos vivos totales': 'Nacidos_Vivos_Totales',\n",
        "    'N�mero de nacidos vivos con un peso menor a 2500 gramos': 'Nacidos_Vivos_Menor_2500g',\n",
        "    'N�mero de defunciones totales': 'Defunciones_Totales',\n",
        "    'N�mero de defunciones de menores de 1 a�o': 'Defunciones_Menores_1_Ano',\n",
        "    'N�mero de defunciones de ni�os entre 1 y 4 a�os': 'Defunciones_1_4_Ano',\n",
        "    'Tasa Mortalidad Infantil': 'Tasa_Mortalidad_Infantil',\n",
        "    'N�mero de prestadoras de servicio de salud p�blica': 'Prestadoras_Salud_Publica',\n",
        "    'N�mero de sedes de prestadoras de servicio de salud p�blica': 'Sedes_Salud_Publica',\n",
        "    'Cobertura total de acueducto': 'Cobertura_Acueducto_Total',\n",
        "    'Cobertura total en �rea urbana de acueducto': 'Cobertura_Acueducto_Urbana',\n",
        "    'Cobertura total en �rea rural de acueducto': 'Cobertura_Acueducto_Rural',\n",
        "    'Cobertura total de aseo': 'Cobertura_Aseo_Total',\n",
        "    'Cobertura total en �rea urbana de aseo': 'Cobertura_Aseo_Urbana',\n",
        "    'Cobertura total en �rea rural de aseo': 'Cobertura_Aseo_Rural',\n",
        "    'Cobertura total de alcantarillado': 'Cobertura_Alcantarillado_Total',\n",
        "    'Cobertura total en �rea urbana de alcantarillado': 'Cobertura_Alcantarillado_Urbana',\n",
        "    'Cobertura total en �rea rural de alcantarillado': 'Cobertura_Alcantarillado_Rural',\n",
        "    'Usuarios de energ�a el�ctrica en la cabecera municipal conectados al Sistema ': 'Usuarios_Energia_Cabecera_Conectados_SIN',\n",
        "    'Usuarios de energ�a el�ctrica no en la cabecera municipal conectados al Siste': 'Usuarios_Energia_No_Cabecera_Conectados_SIN',\n",
        "    'Usuarios de energ�a el�ctrica conectados al Sistema Interconectado Nacional': 'Usuarios_Energia_Conectados_SIN',\n",
        "    'Usuarios de energ�a el�ctrica en la cabecera municipal en Zona no Interconect': 'Usuarios_Energia_Cabecera_Zona_No_Interconectada',\n",
        "    'Usuarios de energ�a el�ctrica no en la cabecera municipal en Zona no Intercon': 'Usuarios_Energia_No_Cabecera_Zona_No_Interconectada',\n",
        "    'Usuarios de energ�a el�ctrica en Zona no Interconectada': 'Usuarios_Energia_Zona_No_Interconectada',\n",
        "    'Usuarios de energ�a el�ctrica en la cabecera municipal': 'Usuarios_Energia_Cabecera',\n",
        "    'Usuarios de energ�a el�ctrica no en la cabecera municipal': 'Usuarios_Energia_No_Cabecera',\n",
        "    'Total usuarios de energ�a el�ctrica': 'Total_Usuarios_Energia',\n",
        "    'Usuarios de energ�a el�ctrica subnormales conectados al Sistema Interconectad': 'Usuarios_Energia_Subnormales_Conectados_SIN',\n",
        "    'Indice de cobertura el�ctrica en la cabecera municipal': 'Indice_Cobertura_Electrica_Cabecera',\n",
        "    'Indice de cobertura el�ctrica no en la cabecera municipal': 'Indice_Cobertura_Electrica_No_Cabecera',\n",
        "    'Indice de cobertura el�ctrica': 'Indice_Cobertura_Electrica',\n",
        "    'Registro estatal de inmuebles': 'Registro_Estatal_Inmuebles',\n",
        "    'Usuarios anillados a la red de gas natural': 'Usuarios_Anillados_Gas_Natural',\n",
        "    'Usuarios residenciales conectados a la red de gas natural': 'Usuarios_Residenciales_Conectados_Gas_Natural',\n",
        "    'Total de usuarios conectados a la red de gas natural': 'Total_Usuarios_Conectados_Gas_Natural',\n",
        "    'Cobertura potencial de gas natural': 'Cobertura_Potencial_Gas_Natural',\n",
        "    'Cobertura efectiva de gas natural': 'Cobertura_Efectiva_Gas_Natural'\n",
        "}, inplace=True)\n"
      ],
      "metadata": {
        "id": "eOl82UsknES_"
      },
      "execution_count": 16,
      "outputs": []
    },
    {
      "cell_type": "code",
      "source": [
        "datos.columns"
      ],
      "metadata": {
        "colab": {
          "base_uri": "https://localhost:8080/"
        },
        "id": "LuFuui2ZnNfT",
        "outputId": "fa56fdbd-848d-42fd-af7c-2710e085055b"
      },
      "execution_count": 17,
      "outputs": [
        {
          "output_type": "execute_result",
          "data": {
            "text/plain": [
              "Index(['Codigo_dane_del_municipio', 'Ano', 'Afiliados_Regimen_Subsidiado',\n",
              "       'Cobertura_Regimen_Subsidiado', 'Afiliados_Regimen_Contributivo',\n",
              "       'Afiliados_Regimen_Especial', 'Nacidos_Vivos_Totales',\n",
              "       'Nacidos_Vivos_Menor_2500g', 'Defunciones_Totales',\n",
              "       'Defunciones_Menores_1_Ano', 'Defunciones_1_4_Ano',\n",
              "       'Tasa_Mortalidad_Infantil', 'Prestadoras_Salud_Publica',\n",
              "       'Sedes_Salud_Publica', 'Cobertura_Acueducto_Total',\n",
              "       'Cobertura_Acueducto_Urbana', 'Cobertura_Acueducto_Rural',\n",
              "       'Cobertura_Aseo_Total', 'Cobertura_Aseo_Urbana', 'Cobertura_Aseo_Rural',\n",
              "       'Cobertura_Alcantarillado_Total', 'Cobertura_Alcantarillado_Urbana',\n",
              "       'Cobertura_Alcantarillado_Rural',\n",
              "       'Usuarios_Energia_Cabecera_Conectados_SIN',\n",
              "       'Usuarios_Energia_No_Cabecera_Conectados_SIN',\n",
              "       'Usuarios_Energia_Conectados_SIN',\n",
              "       'Usuarios_Energia_Cabecera_Zona_No_Interconectada',\n",
              "       'Usuarios_Energia_No_Cabecera_Zona_No_Interconectada',\n",
              "       'Usuarios_Energia_Zona_No_Interconectada', 'Usuarios_Energia_Cabecera',\n",
              "       'Usuarios_Energia_No_Cabecera', 'Total_Usuarios_Energia',\n",
              "       'Usuarios_Energia_Subnormales_Conectados_SIN',\n",
              "       'Indice_Cobertura_Electrica_Cabecera',\n",
              "       'Indice_Cobertura_Electrica_No_Cabecera', 'Indice_Cobertura_Electrica',\n",
              "       'Registro_Estatal_Inmuebles', 'Usuarios_Anillados_Gas_Natural',\n",
              "       'Usuarios_Residenciales_Conectados_Gas_Natural',\n",
              "       'Total_Usuarios_Conectados_Gas_Natural',\n",
              "       'Cobertura_Potencial_Gas_Natural', 'Cobertura_Efectiva_Gas_Natural'],\n",
              "      dtype='object')"
            ]
          },
          "metadata": {},
          "execution_count": 17
        }
      ]
    },
    {
      "cell_type": "code",
      "source": [
        "# Identificar columnas numéricas para la estandarización\n",
        "numerical_columns = datos.select_dtypes(include=['float64', 'int64']).columns\n",
        "print(\"Columnas numéricas identificadas para la estandarización:\")\n",
        "print(numerical_columns)\n",
        "\n",
        "# Preprocesamiento de datos: manejar valores faltantes\n",
        "datos = datos.dropna()  # Eliminar filas con valores faltantes\n",
        "\n",
        "# Estandarizar las variables numéricas\n",
        "scaler = StandardScaler()\n",
        "datos[numerical_columns] = scaler.fit_transform(datos[numerical_columns])\n",
        "\n",
        "# Guardar los datos preprocesados en un archivo CSV\n",
        "datos.to_csv('data/processed_data.csv', index=False)\n",
        "\n",
        "print(\"Preprocesamiento completado y datos guardados en 'data/processed_data.csv'\")"
      ],
      "metadata": {
        "colab": {
          "base_uri": "https://localhost:8080/"
        },
        "id": "nw3BCZMMoiJM",
        "outputId": "668b71d6-ba13-4ac1-ed88-b31c34a3ac3e"
      },
      "execution_count": 18,
      "outputs": [
        {
          "output_type": "stream",
          "name": "stdout",
          "text": [
            "Columnas numéricas identificadas para la estandarización:\n",
            "Index(['Codigo_dane_del_municipio', 'Ano', 'Afiliados_Regimen_Subsidiado',\n",
            "       'Cobertura_Regimen_Subsidiado', 'Afiliados_Regimen_Contributivo',\n",
            "       'Afiliados_Regimen_Especial', 'Nacidos_Vivos_Totales',\n",
            "       'Nacidos_Vivos_Menor_2500g', 'Defunciones_Totales',\n",
            "       'Defunciones_Menores_1_Ano', 'Defunciones_1_4_Ano',\n",
            "       'Tasa_Mortalidad_Infantil', 'Prestadoras_Salud_Publica',\n",
            "       'Sedes_Salud_Publica', 'Cobertura_Acueducto_Total',\n",
            "       'Cobertura_Acueducto_Urbana', 'Cobertura_Acueducto_Rural',\n",
            "       'Cobertura_Aseo_Total', 'Cobertura_Aseo_Urbana', 'Cobertura_Aseo_Rural',\n",
            "       'Cobertura_Alcantarillado_Total', 'Cobertura_Alcantarillado_Urbana',\n",
            "       'Cobertura_Alcantarillado_Rural',\n",
            "       'Usuarios_Energia_Cabecera_Conectados_SIN',\n",
            "       'Usuarios_Energia_No_Cabecera_Conectados_SIN',\n",
            "       'Usuarios_Energia_Conectados_SIN',\n",
            "       'Usuarios_Energia_Cabecera_Zona_No_Interconectada',\n",
            "       'Usuarios_Energia_No_Cabecera_Zona_No_Interconectada',\n",
            "       'Usuarios_Energia_Zona_No_Interconectada', 'Usuarios_Energia_Cabecera',\n",
            "       'Usuarios_Energia_No_Cabecera', 'Total_Usuarios_Energia',\n",
            "       'Usuarios_Energia_Subnormales_Conectados_SIN',\n",
            "       'Indice_Cobertura_Electrica_Cabecera',\n",
            "       'Indice_Cobertura_Electrica_No_Cabecera', 'Indice_Cobertura_Electrica',\n",
            "       'Registro_Estatal_Inmuebles', 'Usuarios_Anillados_Gas_Natural',\n",
            "       'Usuarios_Residenciales_Conectados_Gas_Natural',\n",
            "       'Total_Usuarios_Conectados_Gas_Natural',\n",
            "       'Cobertura_Potencial_Gas_Natural', 'Cobertura_Efectiva_Gas_Natural'],\n",
            "      dtype='object')\n",
            "Preprocesamiento completado y datos guardados en 'data/processed_data.csv'\n"
          ]
        },
        {
          "output_type": "stream",
          "name": "stderr",
          "text": [
            "<ipython-input-18-6091bdf9a4e0>:11: SettingWithCopyWarning: \n",
            "A value is trying to be set on a copy of a slice from a DataFrame.\n",
            "Try using .loc[row_indexer,col_indexer] = value instead\n",
            "\n",
            "See the caveats in the documentation: https://pandas.pydata.org/pandas-docs/stable/user_guide/indexing.html#returning-a-view-versus-a-copy\n",
            "  datos[numerical_columns] = scaler.fit_transform(datos[numerical_columns])\n"
          ]
        }
      ]
    },
    {
      "cell_type": "code",
      "source": [
        "# clustering_analysis.py\n",
        "\n",
        "import pandas as pd\n",
        "import matplotlib.pyplot as plt\n",
        "from scipy.cluster.hierarchy import dendrogram, linkage\n",
        "from sklearn.cluster import KMeans, DBSCAN\n",
        "from sklearn.decomposition import PCA\n",
        "import numpy as np\n",
        "from sklearn.neighbors import NearestNeighbors\n",
        "from kneed import KneeLocator\n",
        "\n",
        "# Cargar datos_processed preprocesados\n",
        "datos_processed = pd.read_csv('data/processed_data.csv')\n",
        "\n",
        "# Columnas numéricas para clustering (se asumen todas como numéricas en el archivo preprocesado)\n",
        "numerical_columns = datos_processed.select_dtypes(include=['float64', 'int64']).columns\n",
        "\n",
        "# Clustering jerárquico\n",
        "Z = linkage(datos_processed[numerical_columns], method='ward')\n",
        "\n",
        "# Guardar el dendrograma en un archivo\n",
        "plt.figure(figsize=(10, 7))\n",
        "dendrogram(Z)\n",
        "plt.title('Dendrograma de Clustering Jerárquico')\n",
        "plt.xlabel('Municipios')\n",
        "plt.ylabel('Distancia')\n",
        "plt.savefig('results/dendrogram.png')\n",
        "plt.close()\n",
        "\n",
        "# K-means clustering\n",
        "kmeans = KMeans(n_clusters=4, random_state=42)  # Ajusta el número de clusters según sea necesario\n",
        "datos_processed['KMeans_Cluster'] = kmeans.fit_predict(datos_processed[numerical_columns])\n",
        "\n",
        "# Visualizar y guardar los clusters de K-means en un PCA de 2D\n",
        "pca = PCA(n_components=2)\n",
        "pca_result = pca.fit_transform(datos_processed[numerical_columns])\n",
        "plt.scatter(pca_result[:, 0], pca_result[:, 1], c=datos_processed['KMeans_Cluster'])\n",
        "plt.title('Clusters de K-means visualizados en PCA 2D')\n",
        "plt.xlabel('Componente Principal 1')\n",
        "plt.ylabel('Componente Principal 2')\n",
        "plt.savefig('results/kmeans_clusters.png')\n",
        "plt.close()\n",
        "\n",
        "# DBSCAN\n",
        "# Determinar eps óptimo usando el método de la rodilla\n",
        "neigh = NearestNeighbors(n_neighbors=2)\n",
        "nbrs = neigh.fit(datos_processed[numerical_columns])\n",
        "distances, indices = nbrs.kneighbors(datos_processed[numerical_columns])\n",
        "distances = np.sort(distances, axis=0)[:, 1]\n",
        "\n",
        "# Graficar el gráfico de k-distancias para encontrar eps\n",
        "plt.plot(distances)\n",
        "plt.title('Gráfico de k-distancias para determinar eps')\n",
        "plt.xlabel('Puntos de datos_processed ordenados')\n",
        "plt.ylabel('Distancia al vecino más cercano')\n",
        "plt.savefig('results/kdistances.png')\n",
        "plt.close()\n",
        "\n",
        "# Encontrar el punto de \"codo\"\n",
        "kneedle = KneeLocator(range(len(distances)), distances, S=1.0, curve=\"convex\", direction=\"increasing\")\n",
        "eps_optimo = distances[kneedle.knee]\n",
        "print(f\"Valor óptimo de eps encontrado: {eps_optimo}\")\n",
        "\n",
        "# Aplicar DBSCAN\n",
        "dbscan = DBSCAN(eps=eps_optimo, min_samples=4)\n",
        "datos_processed['DBSCAN_Cluster'] = dbscan.fit_predict(datos_processed[numerical_columns])\n",
        "\n",
        "# Guardar visualización de los clusters de DBSCAN\n",
        "plt.scatter(pca_result[:, 0], pca_result[:, 1], c=datos_processed['DBSCAN_Cluster'])\n",
        "plt.title('Clusters de DBSCAN visualizados en PCA 2D')\n",
        "plt.xlabel('Componente Principal 1')\n",
        "plt.ylabel('Componente Principal 2')\n",
        "plt.savefig('results/dbscan_clusters.png')\n",
        "plt.close()\n",
        "\n",
        "# Guardar resultados en un archivo CSV\n",
        "datos_processed.to_csv('results/clustered_data.csv', index=False)\n",
        "\n",
        "print(\"Análisis de clustering completado y resultados guardados en 'results/'\")"
      ],
      "metadata": {
        "colab": {
          "base_uri": "https://localhost:8080/"
        },
        "id": "e_-B-3Vnp3S-",
        "outputId": "9320e995-251d-4b97-f5da-2fa94b68416f"
      },
      "execution_count": 20,
      "outputs": [
        {
          "output_type": "stream",
          "name": "stderr",
          "text": [
            "/usr/local/lib/python3.10/dist-packages/sklearn/cluster/_kmeans.py:1416: FutureWarning: The default value of `n_init` will change from 10 to 'auto' in 1.4. Set the value of `n_init` explicitly to suppress the warning\n",
            "  super()._check_params_vs_input(X, default_n_init=10)\n"
          ]
        },
        {
          "output_type": "stream",
          "name": "stdout",
          "text": [
            "Valor óptimo de eps encontrado: 4.076243984413163\n",
            "Análisis de clustering completado y resultados guardados en 'results/'\n"
          ]
        }
      ]
    }
  ]
}