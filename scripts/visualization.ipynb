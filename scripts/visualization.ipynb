{
  "nbformat": 4,
  "nbformat_minor": 0,
  "metadata": {
    "colab": {
      "provenance": []
    },
    "kernelspec": {
      "name": "python3",
      "display_name": "Python 3"
    },
    "language_info": {
      "name": "python"
    }
  },
  "cells": [
    {
      "cell_type": "code",
      "source": [
        "# visualization.py\n",
        "\n",
        "import pandas as pd\n",
        "import matplotlib.pyplot as plt\n",
        "\n",
        "# Cargar los datos clusterizados\n",
        "datos = pd.read_csv('results/clustered_data.csv')\n",
        "\n",
        "# Visualizar la distribución de los clusters de K-means\n",
        "plt.figure(figsize=(8, 6))\n",
        "plt.hist(datos['KMeans_Cluster'], bins=range(-1, 5), align='left', color='blue', alpha=0.7)\n",
        "plt.title('Distribución de Clusters de K-means')\n",
        "plt.xlabel('Cluster')\n",
        "plt.ylabel('Frecuencia')\n",
        "plt.savefig('results/kmeans_cluster_distribution.png')\n",
        "plt.close()\n",
        "\n",
        "# Visualizar la distribución de los clusters de DBSCAN\n",
        "plt.figure(figsize=(8, 6))\n",
        "plt.hist(datos['DBSCAN_Cluster'], bins=range(-1, max(datos['DBSCAN_Cluster']) + 2), align='left', color='green', alpha=0.7)\n",
        "plt.title('Distribución de Clusters de DBSCAN')\n",
        "plt.xlabel('Cluster')\n",
        "plt.ylabel('Frecuencia')\n",
        "plt.savefig('results/dbscan_cluster_distribution.png')\n",
        "plt.close()\n",
        "\n",
        "print(\"Visualizaciones adicionales generadas y guardadas en 'results/'\")\n"
      ],
      "metadata": {
        "id": "eOl82UsknES_",
        "colab": {
          "base_uri": "https://localhost:8080/"
        },
        "outputId": "3a3fe939-fa02-497b-89d1-1f1b15f03db7"
      },
      "execution_count": 1,
      "outputs": [
        {
          "output_type": "stream",
          "name": "stdout",
          "text": [
            "Visualizaciones adicionales generadas y guardadas en 'results/'\n"
          ]
        }
      ]
    }
  ]
}